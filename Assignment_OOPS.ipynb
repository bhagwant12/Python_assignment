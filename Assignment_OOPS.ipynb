{
 "cells": [
  {
   "cell_type": "markdown",
   "id": "b6cb1b6c",
   "metadata": {},
   "source": [
    "#Write a Rectangle class in Python language, allowing you to build a rectangle with length and width attributes.Create a Perimeter() method to calculate the perimeter of the rectangle and a Area() method to calculate the area of ​​the rectangle.Create a method display() that display the length, width, perimeter and area of an object created using an instantiation on rectangle class.Create a Parallelepipede child class inheriting from the Rectangle class and with a height attribute and another Volume() method to calculate the volume of the Parallelepiped.\n",
    "\n"
   ]
  },
  {
   "cell_type": "code",
   "execution_count": 72,
   "id": "14ed220f",
   "metadata": {},
   "outputs": [],
   "source": [
    "class Rectangle:\n",
    "    def Lenght(self,lenght):\n",
    "        self.lenght=lenght\n",
    "        print(\"Lenght:\",self.lenght)\n",
    "    def Width(self,width):\n",
    "        self.width=width\n",
    "        print(\"width:\",self.lenght)\n",
    "        \n",
    "    def Area(self):\n",
    "        self.area=self.lenght*self.width\n",
    "        print(\"Area: \",self.area)\n",
    "    def Perimeter(self):\n",
    "        self.perimeter=2*(self.lenght+self.width)\n",
    "        print(\"perimeter:\",self.perimeter)\n",
    "    def Display(self):\n",
    "        print(\"lenght: \",self.lenght,\"width: \",self.width,\"area: \",self.area,\"Perimeter: \",self.perimeter)"
   ]
  },
  {
   "cell_type": "code",
   "execution_count": 73,
   "id": "21a6da16",
   "metadata": {},
   "outputs": [],
   "source": [
    "class Para(Rectangle):\n",
    "    def Hight(self,hight):\n",
    "        self.hight=hight\n",
    "        print(\"hight:\",self.hight)\n",
    "    def Volume(self):\n",
    "        self.volume=(self.area*self.hight)\n",
    "        print(\"hight:\",self.volume)"
   ]
  },
  {
   "cell_type": "code",
   "execution_count": 74,
   "id": "8564c28c",
   "metadata": {},
   "outputs": [],
   "source": [
    "h=Para()"
   ]
  },
  {
   "cell_type": "code",
   "execution_count": 75,
   "id": "4ef48c67",
   "metadata": {},
   "outputs": [
    {
     "name": "stdout",
     "output_type": "stream",
     "text": [
      "Lenght: 10\n"
     ]
    }
   ],
   "source": [
    "h.Lenght(10)"
   ]
  },
  {
   "cell_type": "code",
   "execution_count": 76,
   "id": "58e582bd",
   "metadata": {},
   "outputs": [
    {
     "name": "stdout",
     "output_type": "stream",
     "text": [
      "width: 10\n"
     ]
    }
   ],
   "source": [
    "h.Width(10)"
   ]
  },
  {
   "cell_type": "code",
   "execution_count": 77,
   "id": "49f113e6",
   "metadata": {},
   "outputs": [
    {
     "name": "stdout",
     "output_type": "stream",
     "text": [
      "Area:  100\n"
     ]
    }
   ],
   "source": [
    "h.Area()"
   ]
  },
  {
   "cell_type": "code",
   "execution_count": 78,
   "id": "8c4b8df3",
   "metadata": {},
   "outputs": [
    {
     "name": "stdout",
     "output_type": "stream",
     "text": [
      "perimeter: 40\n"
     ]
    }
   ],
   "source": [
    "h.Perimeter()"
   ]
  },
  {
   "cell_type": "code",
   "execution_count": 79,
   "id": "6dd78d7f",
   "metadata": {},
   "outputs": [
    {
     "name": "stdout",
     "output_type": "stream",
     "text": [
      "lenght:  10 width:  10 area:  100 Perimeter:  40\n"
     ]
    }
   ],
   "source": [
    "h.Display()"
   ]
  },
  {
   "cell_type": "code",
   "execution_count": 80,
   "id": "e564c62e",
   "metadata": {},
   "outputs": [
    {
     "name": "stdout",
     "output_type": "stream",
     "text": [
      "hight: 12\n"
     ]
    }
   ],
   "source": [
    "h.Hight(12)"
   ]
  },
  {
   "cell_type": "code",
   "execution_count": 81,
   "id": "e106e22e",
   "metadata": {},
   "outputs": [
    {
     "name": "stdout",
     "output_type": "stream",
     "text": [
      "hight: 1200\n"
     ]
    }
   ],
   "source": [
    "h.Volume()"
   ]
  },
  {
   "cell_type": "markdown",
   "id": "d0af5b70",
   "metadata": {},
   "source": [
    "Create a Python class Person with attributes: name and age of type string.Create a display() method that displays the name and age of an object created via the Person class.Create a child class Student  which inherits from the Person class and which also has a section attribute.Create a method displayStudent() that displays the name, age and section of an object created via the Student class.Create a student object via an instantiation on the Student class and then test the displayStudent method."
   ]
  },
  {
   "cell_type": "code",
   "execution_count": 2,
   "id": "7e0199a8",
   "metadata": {},
   "outputs": [],
   "source": [
    "class Person:\n",
    "    def Name(self):\n",
    "        self.name=input(\"Enter person Name: \")\n",
    "    def Age(self):\n",
    "        self.age=input(\"Enter age of person: \")\n",
    "    def Display(self):\n",
    "        print(\"Name of student:\",self.name,\"age of person:\",self.age)"
   ]
  },
  {
   "cell_type": "code",
   "execution_count": 3,
   "id": "9d167b78",
   "metadata": {},
   "outputs": [],
   "source": [
    "class Student(Person):\n",
    "    def Section(self):\n",
    "        self.section=input(\"enter Section: \")\n",
    "    def Display_student(self):\n",
    "        print(\"name: \",self.name, \"age: \",self.age, \"section: \",self.section)"
   ]
  },
  {
   "cell_type": "code",
   "execution_count": 4,
   "id": "b013c7e6",
   "metadata": {},
   "outputs": [],
   "source": [
    "s=Student()"
   ]
  },
  {
   "cell_type": "code",
   "execution_count": 5,
   "id": "1baf1ce3",
   "metadata": {},
   "outputs": [
    {
     "name": "stdout",
     "output_type": "stream",
     "text": [
      "Enter person Name: hii\n"
     ]
    }
   ],
   "source": [
    "s.Name()"
   ]
  },
  {
   "cell_type": "code",
   "execution_count": 6,
   "id": "ac33d74c",
   "metadata": {},
   "outputs": [
    {
     "name": "stdout",
     "output_type": "stream",
     "text": [
      "Enter age of person: 22\n"
     ]
    }
   ],
   "source": [
    "s.Age()"
   ]
  },
  {
   "cell_type": "code",
   "execution_count": 7,
   "id": "7dfac916",
   "metadata": {},
   "outputs": [
    {
     "name": "stdout",
     "output_type": "stream",
     "text": [
      "enter Section: DBDA\n"
     ]
    }
   ],
   "source": [
    "s.Section()"
   ]
  },
  {
   "cell_type": "code",
   "execution_count": 9,
   "id": "f678962c",
   "metadata": {},
   "outputs": [
    {
     "name": "stdout",
     "output_type": "stream",
     "text": [
      "name:  hii age:  22 section:  DBDA\n"
     ]
    }
   ],
   "source": [
    "s.Display_student()"
   ]
  },
  {
   "cell_type": "markdown",
   "id": "4987b39a",
   "metadata": {},
   "source": [
    "Define a Book class with the following attributes: Title, Author (Full name), Price.Define a constructor used to initialize the attributes of the method with values entered by the user.Set the View() method to display information for the current book.Write a program to testing the Book class"
   ]
  },
  {
   "cell_type": "code",
   "execution_count": 11,
   "id": "25cd6c64",
   "metadata": {},
   "outputs": [],
   "source": [
    "class Book:\n",
    "    def __init__(self):\n",
    "        self.title=input(\"Enter Title: \")\n",
    "        self.author=input(\"Enter Author: \")\n",
    "        self.price=input(\"Enter Price: \")\n",
    "    def disp(self):\n",
    "        print(self.title,self.author,self.price)       "
   ]
  },
  {
   "cell_type": "code",
   "execution_count": 12,
   "id": "df5df45c",
   "metadata": {},
   "outputs": [
    {
     "name": "stdout",
     "output_type": "stream",
     "text": [
      "Enter Title: hhh\n",
      "Enter Author: jjj\n",
      "Enter Price: 90\n"
     ]
    }
   ],
   "source": [
    "b=Book()"
   ]
  },
  {
   "cell_type": "code",
   "execution_count": 13,
   "id": "7773d6c3",
   "metadata": {},
   "outputs": [
    {
     "name": "stdout",
     "output_type": "stream",
     "text": [
      "hhh jjj 90\n"
     ]
    }
   ],
   "source": [
    "b.disp()"
   ]
  },
  {
   "cell_type": "markdown",
   "id": "a63d59d4",
   "metadata": {},
   "source": [
    "Create a child class Bus that will inherit all of the variables and methods of the Vehicle class. In the vehicle class create relevant methods and variables.\n"
   ]
  },
  {
   "cell_type": "code",
   "execution_count": 10,
   "id": "146a9c17",
   "metadata": {},
   "outputs": [],
   "source": [
    "class Vehical:\n",
    "    def __init__(self,c=\"white\"):\n",
    "        self.wheel=int(input(\"Enter no of wheels: \"))\n",
    "        self.colour=c\n",
    "class bus(Vehical):\n",
    "    def info(self):\n",
    "        self.lenght=float(input(\"Enter Lenght: \"))\n",
    "        self.brand=input(\"Enter brand: \")\n",
    "    def display(self):\n",
    "            print(\"No of wheels: \",self.wheel, \"colour: \",self.colour, \"Lenght: \",self.lenght, \"brand: \",self.brand)"
   ]
  },
  {
   "cell_type": "code",
   "execution_count": 11,
   "id": "75939395",
   "metadata": {},
   "outputs": [
    {
     "name": "stdout",
     "output_type": "stream",
     "text": [
      "Enter no of wheels: 4\n"
     ]
    }
   ],
   "source": [
    "b=bus()"
   ]
  },
  {
   "cell_type": "code",
   "execution_count": 12,
   "id": "9d50a133",
   "metadata": {},
   "outputs": [
    {
     "name": "stdout",
     "output_type": "stream",
     "text": [
      "Enter Lenght: 12\n",
      "Enter brand: maruti 800\n"
     ]
    }
   ],
   "source": [
    "b.info()"
   ]
  },
  {
   "cell_type": "code",
   "execution_count": 13,
   "id": "2c8b7315",
   "metadata": {},
   "outputs": [
    {
     "name": "stdout",
     "output_type": "stream",
     "text": [
      "No of wheels:  4 colour:  white Lenght:  12.0 brand:  maruti 800\n"
     ]
    }
   ],
   "source": [
    "b.display()\n"
   ]
  },
  {
   "cell_type": "code",
   "execution_count": null,
   "id": "cbfb4e33",
   "metadata": {},
   "outputs": [],
   "source": []
  },
  {
   "cell_type": "code",
   "execution_count": null,
   "id": "30949db1",
   "metadata": {},
   "outputs": [],
   "source": []
  }
 ],
 "metadata": {
  "kernelspec": {
   "display_name": "Python 3 (ipykernel)",
   "language": "python",
   "name": "python3"
  },
  "language_info": {
   "codemirror_mode": {
    "name": "ipython",
    "version": 3
   },
   "file_extension": ".py",
   "mimetype": "text/x-python",
   "name": "python",
   "nbconvert_exporter": "python",
   "pygments_lexer": "ipython3",
   "version": "3.9.7"
  }
 },
 "nbformat": 4,
 "nbformat_minor": 5
}
